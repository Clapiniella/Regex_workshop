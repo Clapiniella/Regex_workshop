{
 "cells": [
  {
   "cell_type": "markdown",
   "metadata": {},
   "source": [
    "# Regular expresions (RegEx)"
   ]
  },
  {
   "cell_type": "markdown",
   "metadata": {},
   "source": [
    "- Online regex tester: https://regex101.com\n",
    "- w3schools: https://www.w3schools.com/python/python_regex.asp\n",
    "- re module documentation: https://docs.python.org/3/library/re.html"
   ]
  },
  {
   "cell_type": "markdown",
   "metadata": {},
   "source": [
    "### Sintaxis"
   ]
  },
  {
   "cell_type": "markdown",
   "metadata": {},
   "source": [
    "- **Literals** `a` \n",
    "- **Alternation** `a|b`\n",
    "- **Character sets** `[ab]`, `[^ab]`\n",
    "- **Wildcards** `.`\n",
    "- **Escape special characters** `\\` (?,*,+,^,&)\n",
    "- **Ranges** `[a-d]`, `[1-9]`\n",
    "- **Character classes** `\\w`, `\\d`, `\\s`, `\\n`, `\\W`, `\\D`, `\\S`\n",
    "- **Quantifiers** `{2}`, `{2,}`, `{2,4}`, `?`, `*`, `+`\n",
    "- **Grouping** `()`\n",
    "- **Anchors** `^`, `$`"
   ]
  },
  {
   "cell_type": "markdown",
   "metadata": {},
   "source": [
    "### Methods"
   ]
  },
  {
   "cell_type": "markdown",
   "metadata": {},
   "source": [
    "- **re.findall()**\n",
    "- **re.sub()**\n",
    "- **re.search()**\n",
    "- **re.match()**\n",
    "- **re.split()**"
   ]
  },
  {
   "cell_type": "code",
   "execution_count": 1,
   "metadata": {},
   "outputs": [],
   "source": [
    "import re"
   ]
  },
  {
   "cell_type": "code",
   "execution_count": 2,
   "metadata": {},
   "outputs": [],
   "source": [
    "text = \"Pepe, Pepa and Luis are 22, 34, and 56 years old, respectively?\""
   ]
  },
  {
   "cell_type": "code",
   "execution_count": 3,
   "metadata": {},
   "outputs": [
    {
     "name": "stdout",
     "output_type": "stream",
     "text": [
      "Pepe, Pepa and Lola are 22, 34, and 56 years old, respectively?\n"
     ]
    }
   ],
   "source": [
    "# literals\n",
    "# re.sub\n",
    "text1 = re.sub(\"Luis\", \"Lola\", text)\n",
    "print(text1)"
   ]
  },
  {
   "cell_type": "code",
   "execution_count": 4,
   "metadata": {},
   "outputs": [
    {
     "name": "stdout",
     "output_type": "stream",
     "text": [
      "Pepe, Pepa and Luis are 40, 40, and 56 years old, respectively?\n"
     ]
    }
   ],
   "source": [
    "# alternation\n",
    "\n",
    "text2 = re.sub(\"22|34\", \"40\" , text)\n",
    "print(text2)"
   ]
  },
  {
   "cell_type": "code",
   "execution_count": 5,
   "metadata": {},
   "outputs": [
    {
     "name": "stdout",
     "output_type": "stream",
     "text": [
      "Pepe, Pepa and Luis are 55, 55, and 56 years old, respectively?\n"
     ]
    }
   ],
   "source": [
    "# character sets\n",
    "text3 = re.sub(\"[234]\", \"5\", text)\n",
    "print(text3)"
   ]
  },
  {
   "cell_type": "code",
   "execution_count": 6,
   "metadata": {},
   "outputs": [
    {
     "name": "stdout",
     "output_type": "stream",
     "text": [
      "Felipe, Felipe and Luis are 22, 34, and 56 years old, respectively?\n"
     ]
    }
   ],
   "source": [
    "# wildcards\n",
    "text4 = re.sub(\"Pep.\", \"Felipe\", text)\n",
    "print(text4)"
   ]
  },
  {
   "cell_type": "code",
   "execution_count": 7,
   "metadata": {},
   "outputs": [
    {
     "name": "stdout",
     "output_type": "stream",
     "text": [
      "Pepe, Pepa and Luis are 22, 34, and 56 years old, respectively!\n"
     ]
    }
   ],
   "source": [
    "# escape special characters\n",
    "text5 = re.sub(\"\\?\", \"!\", text)\n",
    "print(text5)"
   ]
  },
  {
   "cell_type": "code",
   "execution_count": 8,
   "metadata": {},
   "outputs": [
    {
     "name": "stdout",
     "output_type": "stream",
     "text": [
      "['p', 'p', 'a', 'a', 'n', 'd', 'u', 'i', 's', 'a', 'r', 'a', 'n', 'd', 'y', 'a', 'r', 's', 'o', 'l', 'd', 'r', 's', 'p', 'c', 't', 'i', 'v', 'l', 'y']\n",
      "['P', 'P', 'L']\n",
      "['2', '2', '3', '4', '5', '6']\n"
     ]
    }
   ],
   "source": [
    "# ranges\n",
    "# re.findall\n",
    "print(re.findall(\"[a-df-z]\", text))\n",
    "print(re.findall(\"[A-Z]\", text))\n",
    "print(re.findall(\"[0-9]\", text))"
   ]
  },
  {
   "cell_type": "code",
   "execution_count": 9,
   "metadata": {},
   "outputs": [
    {
     "name": "stdout",
     "output_type": "stream",
     "text": [
      "['Pepe', 'Pepa', 'and', 'Luis', 'are', '22', '34', 'and', '56', 'years', 'old', 'respectively']\n"
     ]
    }
   ],
   "source": [
    "# character classes\n",
    "print(re.findall(\"\\w+\", text))"
   ]
  },
  {
   "cell_type": "code",
   "execution_count": 10,
   "metadata": {},
   "outputs": [
    {
     "name": "stdout",
     "output_type": "stream",
     "text": [
      "['a', 'a', 'a', 'a', 'a', 'a', 'a', 'a', 'a', 'a', 'a', 'a', 'a', 'a', 'a', 'a', 'a', 'a']\n",
      "['aa', 'aa', 'aa', 'aa', 'aa', 'aa', 'aa']\n",
      "['aa', 'aa', 'aaa', 'aaaa', 'aaaaa']\n",
      "['', 'aa', '', '', 'a', '', '', '', 'a', '', 'aa', '', 'aaa', '', 'aaaa', '', 'aaaaa', '']\n",
      "['aa', 'a', 'a', 'aa', 'aaa', 'aaaa', 'aaaaa']\n",
      "['baa', 'ba']\n",
      "['', 'a', 'a', '', '', 'a', '', '', '', 'a', '', 'a', 'a', '', 'a', 'a', 'a', '', 'a', 'a', 'a', 'a', '', 'a', 'a', 'a', 'a', 'a', '']\n"
     ]
    }
   ],
   "source": [
    "# quantifiers\n",
    "text = \"baa ba b a aa aaa aaaa aaaaa\"\n",
    "print(re.findall(\"a\", text))\n",
    "print(re.findall(\"a{2}\", text))\n",
    "print(re.findall(\"a{2,}\", text))\n",
    "print(re.findall(\"a*\", text))\n",
    "print(re.findall(\"a+\", text))\n",
    "print(re.findall(\"ba+\", text))\n",
    "print(re.findall(\"a?\", text))"
   ]
  },
  {
   "cell_type": "code",
   "execution_count": 11,
   "metadata": {},
   "outputs": [
    {
     "name": "stdout",
     "output_type": "stream",
     "text": [
      "<re.Match object; span=(0, 10), match='abctrc abc'>\n"
     ]
    }
   ],
   "source": [
    "# grouping\n",
    "# re.search\n",
    "text = \"abctrc abc\"\n",
    "\n",
    "print(re.search(\"([a-z]{2}c){2}\\sabc\", text))"
   ]
  },
  {
   "cell_type": "code",
   "execution_count": 12,
   "metadata": {},
   "outputs": [
    {
     "name": "stdout",
     "output_type": "stream",
     "text": [
      "<re.Match object; span=(0, 8), match='Ironhack'>\n",
      "None\n",
      "None\n",
      "<re.Match object; span=(19, 27), match='Ironhack'>\n"
     ]
    }
   ],
   "source": [
    "# anchors\n",
    "text = \"Ironhack is the best school\"\n",
    "inverse = \"The best school is Ironhack\"\n",
    "\n",
    "print(re.search(\"^Ironhack\", text))\n",
    "print(re.search(\"^Ironhack\", inverse))\n",
    "print(re.search(\"Ironhack$\", text))\n",
    "print(re.search(\"Ironhack$\", inverse))"
   ]
  },
  {
   "cell_type": "code",
   "execution_count": 13,
   "metadata": {},
   "outputs": [
    {
     "name": "stdout",
     "output_type": "stream",
     "text": [
      "encontrado!\n",
      "<re.Match object; span=(3, 4), match='a'>\n",
      "<re.Match object; span=(0, 1), match='a'>\n"
     ]
    }
   ],
   "source": [
    "# re.search\n",
    "# re.match\n",
    "if re.search(\"a\", \"hola\"):\n",
    "    print(\"encontrado!\")\n",
    "\n",
    "print(re.search(\"a\", \"hola\"))\n",
    "print(re.match(\"a\", \"a\"))"
   ]
  },
  {
   "cell_type": "code",
   "execution_count": 14,
   "metadata": {
    "scrolled": true
   },
   "outputs": [
    {
     "name": "stdout",
     "output_type": "stream",
     "text": [
      "['Pepe, Pepa and Luis are ', ', ', ', and ', ' years old, respectively?']\n"
     ]
    }
   ],
   "source": [
    "# re.split\n",
    "text = \"Pepe, Pepa and Luis are 22, 34, and 56 years old, respectively?\"\n",
    "print(re.split(\"\\d\\d\", text))"
   ]
  },
  {
   "cell_type": "markdown",
   "metadata": {},
   "source": [
    "### Let's practice"
   ]
  },
  {
   "cell_type": "markdown",
   "metadata": {},
   "source": [
    "You work for a very big company and you are assigned the task of verifying information from the 200 most important clients in Europe for a meeting with the board of directors in an hour. Execute the code below to see your dataframe."
   ]
  },
  {
   "cell_type": "code",
   "execution_count": 15,
   "metadata": {},
   "outputs": [
    {
     "data": {
      "text/html": [
       "<div>\n",
       "<style scoped>\n",
       "    .dataframe tbody tr th:only-of-type {\n",
       "        vertical-align: middle;\n",
       "    }\n",
       "\n",
       "    .dataframe tbody tr th {\n",
       "        vertical-align: top;\n",
       "    }\n",
       "\n",
       "    .dataframe thead th {\n",
       "        text-align: right;\n",
       "    }\n",
       "</style>\n",
       "<table border=\"1\" class=\"dataframe\">\n",
       "  <thead>\n",
       "    <tr style=\"text-align: right;\">\n",
       "      <th></th>\n",
       "      <th>name phone email date contract_value creditcard country postalcode address Cameron Sanders +049 106-232065 In@consequatdolorvitae.co.uk Nov 18</th>\n",
       "      <th>2018 €1968</th>\n",
       "      <th>40 5109-0814-0029-5373 Spain 17716 6396 Orci St. Paki Andrews +92 757-624220 sed.tortor.Integer@amet.org Nov 5</th>\n",
       "      <th>2019 €1436</th>\n",
       "      <th>12 5193 1959 4162 5216 Spain 85485 669-6354 Orci Ave Alice Henderson +058 588-402901 Phasellus@vitaesodalesnisi.co.uk Mar 9</th>\n",
       "      <th>2020 €1454</th>\n",
       "      <th>20 5582.3641.9791.9751 Austria 4964 1696 Ac St. Jamalia Johnston +080 954-388350 turpis.nec@elitafeugiat.net Sep 30</th>\n",
       "      <th>2019 €1979</th>\n",
       "      <th>49 5398 2093 5064 8545 Netherlands 7683 XL Ap #958-9660 Dis Rd. Erica Meloni +044 143-705707 pede@risusQuisquelibero.net Sep 24</th>\n",
       "      <th>2019 €1532</th>\n",
       "      <th>...</th>\n",
       "      <th>20 5573-3754-4110-1229 Germany 60983 Ap #411-6393 Neque Ave Ina Pope +66 710-695422 ipsum.leo@etnetus.org Jun 25</th>\n",
       "      <th>2019 €1411</th>\n",
       "      <th>14 5494.4294.5676.1991 Turkey 56481 100-3143 Sem Av. Pierre Huet +59 780-534428 Duis@massanon.edu Feb 12</th>\n",
       "      <th>2020 €1204</th>\n",
       "      <th>66 5464.3195.6239.7366 France 56606 9836 Proin St. Fuller Wong +066 630-613976 arcu.Sed@pharetrafelis.edu Feb 16</th>\n",
       "      <th>2019 €1964</th>\n",
       "      <th>41 5173.8314.8364.7499 Poland 70-698 4283 Proin Avenue Inga Perez +077 335-699540 lectus.ante@dolordolortempus.edu Apr 13</th>\n",
       "      <th>2020 €1416</th>\n",
       "      <th>76 5259 5489 5154 6089 Spain 91092 P.O. Box 788</th>\n",
       "      <th>5453 Enim. St.</th>\n",
       "    </tr>\n",
       "  </thead>\n",
       "  <tbody>\n",
       "  </tbody>\n",
       "</table>\n",
       "<p>0 rows × 490 columns</p>\n",
       "</div>"
      ],
      "text/plain": [
       "Empty DataFrame\n",
       "Columns: [name phone email date contract_value creditcard country postalcode address Cameron Sanders +049 106-232065 In@consequatdolorvitae.co.uk Nov 18,  2018 €1968, 40 5109-0814-0029-5373 Spain 17716 6396 Orci St. Paki Andrews +92 757-624220 sed.tortor.Integer@amet.org Nov 5,  2019 €1436, 12 5193 1959 4162 5216 Spain 85485 669-6354 Orci Ave Alice Henderson +058 588-402901 Phasellus@vitaesodalesnisi.co.uk Mar 9,  2020 €1454, 20 5582.3641.9791.9751 Austria 4964 1696 Ac St. Jamalia Johnston +080 954-388350 turpis.nec@elitafeugiat.net Sep 30,  2019 €1979, 49 5398 2093 5064 8545 Netherlands 7683 XL Ap #958-9660 Dis Rd. Erica Meloni +044 143-705707 pede@risusQuisquelibero.net Sep 24,  2019 €1532, 00 5186 5977 9103 6189 Italy 31046 P.O. Box 271,  1072 Cursus Rd. Hunter Cardenas +042 741-154469 dolor@quis.edu Jul 31,  2020 €1950, 98 5406 4489 0949 9550 United Kingdom C57 2AU 473-2340 Nec Road Anders Bodin +21 119-216844 elit.Aliquam@quistristique.edu Jul 28,  2019 €1763, 38 5511-2605-5014-4845 Sweden 51381 Ap #633-7988 Viverra. St. Karen Chaney +28 655-231748 neque.Morbi.quis@ultriciesadipiscingenim.edu Dec 23,  2018 €1110, 88 5210-8750-6225-4958 Poland 98-144 P.O. Box 733,  6841 Sollicitudin Avenue Ciaran Coleman +009 622-410394 felis.adipiscing.fringilla@facilisis.org Sep 8,  2020 €1199, 90 5508-1717-8235-1477 Austria 5467 P.O. Box 919,  7186 Lectus St. Lily Riviere +048 649-684450 Aenean.egestas.hendrerit@felis.org Aug 15,  2020 €1647, 42 5328-8248-4037-2137 France 67753 Ap #449-9891 Eu,  Street Xaviera Bowen +31 245-397063 sit.amet@maurissit.ca Dec 13,  2019 €1973, 10 5219-8535-9406-4212 Poland 93-445 P.O. Box 907,  4551 Fusce Avenue Samuel Olivieri +033 579-762372 aliquam.arcu@est.co.uk Mar 25,  2019 €1791, 29 5207.5369.2539.2998 Italy 52829 4444 Sed Road Zoe Leroy +95 928-808665 massa@erat.edu Mar 7,  2020 €1640, 89 5210 4758 4547 0615 France 37131 2939 Proin Av. Tatum Middleton +57 791-170967 molestie.arcu.Sed@sitametante.ca Sep 29,  2020 €1415, 83 5410 9173 9811 1391 Belgium 9177 107-2524 Ultricies Ave Sara Bodin +047 305-584900 dictum.Phasellus@lorem.edu Nov 28,  2018 €1013, 09 5253-9920-3166-5145 Sweden 60341 Ap #632-9384 Mauris Avenue Zorita May +17 137-396561 lectus@velitPellentesqueultricies.edu Mar 7,  2020 €1644, 52 5366 9991 8319 2251 Spain 43428 1765 Sed,  Rd. Fitzgerald Davenport +61 604-618037 non@risusquis.com Jul 1,  2020 €1210, 59 5342-8921-5819-0872 Belgium 8062 Ap #711-4012 Eleifend,  St. Nicoletta Rizzo +000 938-458939 lectus.justo@dignissimtemporarcu.co.uk Mar 10,  2020 €1586, 93 5482.7407.5774.5465 Italy 28122 Ap #322-5087 Vitae Road Lana Hahn +009 569-284963 cursus.Integer@accumsan.com Mar 2,  2020 €1140, 46 5286 4021 6930 6158 Poland 43-576 P.O. Box 701,  5874 Auctor,  Rd. Adria Bean +81 358-950542 lobortis.Class@Seddictum.org May 8,  2019 €1777, 45 5285 4548 0100 2555 Austria 2511 Ap #106-488 Ut,  Avenue Sybill Ford +098 286-136669 nec@luctus.co.uk Feb 19,  2019 €1311, 02 5593-7776-8533-9587 Belgium 9321 7398 Nunc Ave Andrew Huff +092 164-186530 magnis@vel.org Sep 7,  2020 €1001, 89 5522 6026 6399 6529 Poland 10-646 5226 Ligula St. Patricia Payne +029 212-403496 condimentum@sitametlorem.co.uk Apr 16,  2020 €1619, 58 5251-2773-9482-8494 Turkey 37999 719-8148 Augue Av. Alexandre Picard +65 502-598783 orci.lacus@facilisisvitae.org Jul 20,  2020 €1921, 60 5322-6769-9179-0814 France 88641 9081 Nisi. Rd. Patience Craig +098 853-074347 lacus@Proinvelit.com Apr 23,  2020 €1231, 89 5441.3698.1914.8136 Spain 97197 7707 Tellus. Av. Isabelle Sloan +072 882-869148 elit@Maurisvelturpis.org Apr 9,  2020 €1973, 53 5351 2640 8962 0930 Germany 28275 362-8631 Ridiculus St. Catarina Persson +69 734-790277 non@Sed.co.uk Mar 2,  2020 €1646, 26 5520 3159 9755 0084 Sweden 71962 964-444 Metus. Road Emerson Wood +085 273-686992 at.sem@nequesedsem.com Mar 30,  2019 €1342, 47 5318 7884 1873 8189 Turkey 38182 Ap #447-2191 Vulputate Av. Bo Foster +063 802-495571 auctor.Mauris.vel@nisi.net May 5,  2020 €1019, 28 5594-7892-1907-9620 Poland 74-538 P.O. Box 948,  512 Orci Rd. Ulysses Sweet +045 231-841494 velit.Sed@eu.com Mar 8,  2020 €1278, 98 5414 1878 5249 1194 United Kingdom Y2 9XY 844-8211 Volutpat Rd. Deirdre Brewer +077 873-495443 at@dui.net Feb 11,  2019 €1886, 56 5569.6978.0245.0911 Austria 6541 P.O. Box 684,  969 Consequat Rd. Thibault Carpentier +022 697-102966 facilisis@Donecegestas.ca Jun 14,  2019 €1199, 43 5215-4498-0784-4088 France 18808 5872 Non,  Ave Maris Burch +33 283-176983 purus@nuncestmollis.net Jul 20,  2019 €1422, 38 5333.7078.2614.4948 Spain 57837 P.O. Box 230,  8298 Sit Street Baxter Erickson +095 473-788101 sem.magna.nec@scelerisqueneque.net Feb 26,  2020 €1396, 98 5364 8660 1440 0504 Belgium 3811 5753 Curabitur Avenue Eleanor Mcintyre +71 956-829107 et@leo.co.uk Apr 10,  2020 €1185, 44 5291.3642.3438.5844 Netherlands 8062 NQ P.O. Box 307,  839 Lobortis Street Aileen Valenzuela +39 366-613317 Sed@feugiattelluslorem.co.uk Jul 2,  2020 €1293, 63 5166 3426 0790 8832 Belgium 6397 Ap #991-4556 Mauris St. Ezra Hale +26 787-220082 eget.metus.eu@purus.net Oct 18,  2019 €1249, 18 5212.9780.3117.2224 Netherlands 9561 GN P.O. Box 768,  8023 Dis St. Valentin Lemaire +047 359-580998 vulputate@inconsequat.ca Sep 5,  2019 €1631, 05 5191.4503.3487.5981 France 05923 P.O. Box 278,  6329 Lacus,  Rd. Marco Di Stefano +92 714-200407 nec.urna@euduiCum.org Jul 28,  2019 €1988, 09 5358.2822.8951.4672 Italy 86032 3076 Metus Ave Jesse Bullock +16 558-431159 semper.auctor.Mauris@ante.edu Dec 4,  2018 €1032, 34 5555 5356 1604 8255 Spain 49761 P.O. Box 259,  7992 Lectus Avenue Cleo Hatfield +91 496-008012 orci@Aeneaneget.com Nov 23, ...]\n",
       "Index: []\n",
       "\n",
       "[0 rows x 490 columns]"
      ]
     },
     "metadata": {},
     "output_type": "display_data"
    }
   ],
   "source": [
    "# loading dataframe\n",
    "import pandas as pd\n",
    "a = pd.read_csv('db.csv')\n",
    "display(a)"
   ]
  },
  {
   "cell_type": "markdown",
   "metadata": {},
   "source": [
    "Oh no! It seems that one of the interns has messed up the `.csv` file, there is no backup, and you are to blame. In order to keep your job, you must find a way to restore the original data. But wait! There is no time to go through all the data manually. Good thing you know how to use `regular expressions`."
   ]
  },
  {
   "cell_type": "markdown",
   "metadata": {},
   "source": [
    "First of all, lets import the `regex` library and load our text file to a variable.\n",
    "This is the data we must retrieve back:\n",
    "- name\n",
    "- phone\n",
    "- email\n",
    "- date\n",
    "- contract_value\n",
    "- creditcard\n",
    "- country\n",
    "- address"
   ]
  },
  {
   "cell_type": "code",
   "execution_count": 16,
   "metadata": {},
   "outputs": [],
   "source": [
    "import re"
   ]
  },
  {
   "cell_type": "code",
   "execution_count": 17,
   "metadata": {},
   "outputs": [
    {
     "name": "stdout",
     "output_type": "stream",
     "text": [
      "name phone email date contract_value creditcard country postalcode address Cameron Sanders +049 106-232065 In@consequatdolorvitae.co.uk Nov 18, 2018 €1968,40 5109-0814-0029-5373 Spain 17716 6396 Orci St. Paki Andrews +92 757-624220 sed.tortor.Integer@amet.org Nov 5, 2019 €1436,12 5193 1959 4162 5216 Spain 85485 669-6354 Orci Ave Alice Henderson +058 588-402901 Phasellus@vitaesodalesnisi.co.uk Mar 9, 2020 €1454,20 5582.3641.9791.9751 Austria 4964 1696 Ac St. Jamalia Johnston +080 954-388350 turpis.nec@elitafeugiat.net Sep 30, 2019 €1979,49 5398 2093 5064 8545 Netherlands 7683 XL Ap #958-9660 Dis Rd. Erica Meloni +044 143-705707 pede@risusQuisquelibero.net Sep 24, 2019 €1532,00 5186 5977 9103 6189 Italy 31046 P.O. Box 271, 1072 Cursus Rd. Hunter Cardenas +042 741-154469 dolor@quis.edu Jul 31, 2020 €1950,98 5406 4489 0949 9550 United Kingdom C57 2AU 473-2340 Nec Road Anders Bodin +21 119-216844 elit.Aliquam@quistristique.edu Jul 28, 2019 €1763,38 5511-2605-5014-4845 Sweden 51381 Ap #633-7988 Viverra. St. Karen Chaney +28 655-231748 neque.Morbi.quis@ultriciesadipiscingenim.edu Dec 23, 2018 €1110,88 5210-8750-6225-4958 Poland 98-144 P.O. Box 733, 6841 Sollicitudin Avenue Ciaran Coleman +009 622-410394 felis.adipiscing.fringilla@facilisis.org Sep 8, 2020 €1199,90 5508-1717-8235-1477 Austria 5467 P.O. Box 919, 7186 Lectus St. Lily Riviere +048 649-684450 Aenean.egestas.hendrerit@felis.org Aug 15, 2020 €1647,42 5328-8248-4037-2137 France 67753 Ap #449-9891 Eu, Street Xaviera Bowen +31 245-397063 sit.amet@maurissit.ca Dec 13, 2019 €1973,10 5219-8535-9406-4212 Poland 93-445 P.O. Box 907, 4551 Fusce Avenue Samuel Olivieri +033 579-762372 aliquam.arcu@est.co.uk Mar 25, 2019 €1791,29 5207.5369.2539.2998 Italy 52829 4444 Sed Road Zoe Leroy +95 928-808665 massa@erat.edu Mar 7, 2020 €1640,89 5210 4758 4547 0615 France 37131 2939 Proin Av. Tatum Middleton +57 791-170967 molestie.arcu.Sed@sitametante.ca Sep 29, 2020 €1415,83 5410 9173 9811 1391 Belgium 9177 107-2524 Ultricies Ave Sara Bodin +047 305-584900 dictum.Phasellus@lorem.edu Nov 28, 2018 €1013,09 5253-9920-3166-5145 Sweden 60341 Ap #632-9384 Mauris Avenue Zorita May +17 137-396561 lectus@velitPellentesqueultricies.edu Mar 7, 2020 €1644,52 5366 9991 8319 2251 Spain 43428 1765 Sed, Rd. Fitzgerald Davenport +61 604-618037 non@risusquis.com Jul 1, 2020 €1210,59 5342-8921-5819-0872 Belgium 8062 Ap #711-4012 Eleifend, St. Nicoletta Rizzo +000 938-458939 lectus.justo@dignissimtemporarcu.co.uk Mar 10, 2020 €1586,93 5482.7407.5774.5465 Italy 28122 Ap #322-5087 Vitae Road Lana Hahn +009 569-284963 cursus.Integer@accumsan.com Mar 2, 2020 €1140,46 5286 4021 6930 6158 Poland 43-576 P.O. Box 701, 5874 Auctor, Rd. Adria Bean +81 358-950542 lobortis.Class@Seddictum.org May 8, 2019 €1777,45 5285 4548 0100 2555 Austria 2511 Ap #106-488 Ut, Avenue Sybill Ford +098 286-136669 nec@luctus.co.uk Feb 19, 2019 €1311,02 5593-7776-8533-9587 Belgium 9321 7398 Nunc Ave Andrew Huff +092 164-186530 magnis@vel.org Sep 7, 2020 €1001,89 5522 6026 6399 6529 Poland 10-646 5226 Ligula St. Patricia Payne +029 212-403496 condimentum@sitametlorem.co.uk Apr 16, 2020 €1619,58 5251-2773-9482-8494 Turkey 37999 719-8148 Augue Av. Alexandre Picard +65 502-598783 orci.lacus@facilisisvitae.org Jul 20, 2020 €1921,60 5322-6769-9179-0814 France 88641 9081 Nisi. Rd. Patience Craig +098 853-074347 lacus@Proinvelit.com Apr 23, 2020 €1231,89 5441.3698.1914.8136 Spain 97197 7707 Tellus. Av. Isabelle Sloan +072 882-869148 elit@Maurisvelturpis.org Apr 9, 2020 €1973,53 5351 2640 8962 0930 Germany 28275 362-8631 Ridiculus St. Catarina Persson +69 734-790277 non@Sed.co.uk Mar 2, 2020 €1646,26 5520 3159 9755 0084 Sweden 71962 964-444 Metus. Road Emerson Wood +085 273-686992 at.sem@nequesedsem.com Mar 30, 2019 €1342,47 5318 7884 1873 8189 Turkey 38182 Ap #447-2191 Vulputate Av. Bo Foster +063 802-495571 auctor.Mauris.vel@nisi.net May 5, 2020 €1019,28 5594-7892-1907-9620 Poland 74-538 P.O. Box 948, 512 Orci Rd. Ulysses Sweet +045 231-841494 velit.Sed@eu.com Mar 8, 2020 €1278,98 5414 1878 5249 1194 United Kingdom Y2 9XY 844-8211 Volutpat Rd. Deirdre Brewer +077 873-495443 at@dui.net Feb 11, 2019 €1886,56 5569.6978.0245.0911 Austria 6541 P.O. Box 684, 969 Consequat Rd. Thibault Carpentier +022 697-102966 facilisis@Donecegestas.ca Jun 14, 2019 €1199,43 5215-4498-0784-4088 France 18808 5872 Non, Ave Maris Burch +33 283-176983 purus@nuncestmollis.net Jul 20, 2019 €1422,38 5333.7078.2614.4948 Spain 57837 P.O. Box 230, 8298 Sit Street Baxter Erickson +095 473-788101 sem.magna.nec@scelerisqueneque.net Feb 26, 2020 €1396,98 5364 8660 1440 0504 Belgium 3811 5753 Curabitur Avenue Eleanor Mcintyre +71 956-829107 et@leo.co.uk Apr 10, 2020 €1185,44 5291.3642.3438.5844 Netherlands 8062 NQ P.O. Box 307, 839 Lobortis Street Aileen Valenzuela +39 366-613317 Sed@feugiattelluslorem.co.uk Jul 2, 2020 €1293,63 5166 3426 0790 8832 Belgium 6397 Ap #991-4556 Mauris St. Ezra Hale +26 787-220082 eget.metus.eu@purus.net Oct 18, 2019 €1249,18 5212.9780.3117.2224 Netherlands 9561 GN P.O. Box 768, 8023 Dis St. Valentin Lemaire +047 359-580998 vulputate@inconsequat.ca Sep 5, 2019 €1631,05 5191.4503.3487.5981 France 05923 P.O. Box 278, 6329 Lacus, Rd. Marco Di Stefano +92 714-200407 nec.urna@euduiCum.org Jul 28, 2019 €1988,09 5358.2822.8951.4672 Italy 86032 3076 Metus Ave Jesse Bullock +16 558-431159 semper.auctor.Mauris@ante.edu Dec 4, 2018 €1032,34 5555 5356 1604 8255 Spain 49761 P.O. Box 259, 7992 Lectus Avenue Cleo Hatfield +91 496-008012 orci@Aeneaneget.com Nov 23, 2019 €1228,58 5514.8337.7186.9999 Turkey 35548 660-8317 Ipsum Rd. Delilah Perez +38 420-600984 Suspendisse.non@ut.edu Sep 8, 2020 €1446,68 5343.9621.6958.8239 United Kingdom Q2E 9GP 7052 A, Street Clementine Zamora +79 375-178844 Mauris@velquamdignissim.edu Apr 1, 2020 €1626,33 5343 2601 5658 5494 Turkey 20552 Ap #712-2525 Volutpat Rd. Bradley Bryan +011 866-011478 rhoncus.Donec.est@cursusluctus.net Nov 16, 2019 €1302,84 5227.0654.2341.9596 Austria 3328 3234 Rutrum, Road Mirko Lorusso +084 618-952818 iaculis.enim@tinciduntcongueturpis.edu May 13, 2019 €1127,67 5432-4854-0059-0469 Italy 18720 2051 Bibendum St. Victor Owens +076 773-495197 sed.orci@pharetra.org Jun 3, 2019 €1531,50 5121 6049 5250 0991 Netherlands 3746 HT Ap #966-1393 Et Rd. Bell Beard +36 284-775685 consectetuer.rhoncus.Nullam@ipsum.edu Dec 21, 2019 €1584,33 5153.3397.4826.4989 Spain 10513 1540 Donec Avenue Erika Karlsson +50 695-312876 fermentum.risus@semPellentesqueut.net Apr 1, 2020 €1018,75 5525.0789.8364.2696 Sweden 61872 Ap #994-335 Sem St. Allen Kramer +91 143-342656 auctor@nasceturridiculus.ca Jun 24, 2019 €1999,10 5527.0630.6873.6322 Turkey 22972 2652 Vitae St. Dale Chapman +012 639-963876 magna.a.tortor@cursus.org Jul 7, 2019 €1172,11 5592.1293.9349.8902 Germany 92952 P.O. Box 286, 8399 Sit Road Kaye Snow +03 623-650748 sagittis@Aeneansedpede.com Nov 6, 2018 €1037,17 5220.8438.2653.6530 Belgium 1612 217-9874 Senectus Av. Vladimir Beach +029 289-937174 erat.semper@adlitoratorquent.net Dec 19, 2019 €1020,92 5451.6855.4774.2735 Austria 2427 P.O. Box 203, 9918 Non, Ave Abigail Delaney +50 349-412986 sed.leo.Cras@at.net Jul 25, 2019 €1450,44 5424.4739.8667.2166 Turkey 06494 6972 Laoreet, St. Allen Parks +96 941-617871 Nunc@egestasnunc.co.uk Sep 14, 2019 €1453,82 5351-9445-2353-2094 Spain 93814 3739 Vestibulum Avenue Tommaso Bernardi +50 554-537427 mollis.Phasellus@adipiscinglacus.co.uk Aug 3, 2019 €1625,94 5511 6905 9856 9985 Italy 96963 P.O. Box 485, 1851 Integer Avenue Piper Stuart +28 376-909928 tortor.nibh.sit@enimdiam.co.uk Dec 23, 2019 €1830,55 5355.4001.1820.6087 United Kingdom AD4 3GY Ap #580-8099 Lectus. Street Marco Pace +010 864-194391 neque@vestibulumMaurismagna.org Feb 22, 2019 €1497,91 5107 4034 8118 1102 Italy 76324 782 Magna. Rd. Sebastian Brown +012 419-102202 nulla.Donec.non@mollisvitae.co.uk Dec 14, 2018 €1637,66 5208.1697.9059.1608 Netherlands 8033 NQ P.O. Box 909, 6288 Eu, Road Jordan Hopper +42 936-900315 eleifend.nec@duinectempus.edu Aug 8, 2020 €1054,70 5437 7091 4153 1721 Austria 7934 P.O. Box 298, 4829 Et Street Debra Harris +080 676-791906 nulla.Donec.non@Sedmolestie.co.uk Sep 7, 2020 €1293,38 5537.6480.7911.5819 Spain 83392 Ap #116-9747 Lacinia Avenue Alexander Vargas +039 905-332646 Fusce@aliquameuaccumsan.edu Nov 6, 2018 €1409,67 5109.7912.9519.1293 Austria 2124 Ap #801-4021 Libero St. Judah Mcpherson +10 196-302049 at.lacus@quis.net Dec 2, 2018 €1618,55 5226-0396-5737-0313 Poland 42-975 3019 Aenean Avenue Emily Peck +28 525-107554 a.tortor@sociosquad.co.uk Feb 9, 2020 €1272,95 5539-0904-4514-9651 Austria 5830 3701 Augue Ave Petter Ericsson +055 844-716684 ipsum@ipsumsodales.co.uk Jul 6, 2020 €1804,56 5541.9690.0002.5081 Sweden 23592 2327 Velit St. Cristina Ferro +23 812-550033 nisl.sem@ut.org Oct 13, 2019 €1382,12 5218-8877-4293-9736 Italy 21156 Ap #306-2145 Vel Avenue Hedy Randolph +17 929-092199 Nunc.sed.orci@Aeneansedpede.co.uk Jan 16, 2019 €1653,86 5403-1357-3662-5225 Netherlands 1958 YQ Ap #103-4781 Ante, Rd. Ezra Dixon +052 979-368042 Morbi.neque.tellus@loremvitae.co.uk Sep 15, 2019 €1251,92 5451.5500.5302.5240 United Kingdom OM4 4QG 588-7259 Quis Av. Raja Nash +044 204-594833 eu@porttitorscelerisque.org Dec 5, 2018 €1237,08 5113-1001-5712-9728 Poland 46-794 P.O. Box 492, 9833 Lacinia. Road Denton Howard +066 643-741175 cursus.diam.at@non.co.uk Jan 26, 2020 €1804,89 5467-5875-5893-5152 Germany 55651 Ap #205-340 At Avenue Melinda Lawrence +45 903-575629 tellus@egestas.edu Jan 20, 2019 €1199,86 5452 6403 0019 5604 Spain 25994 9212 Rutrum St. Oceane Schneider +017 635-272911 ornare.elit.elit@suscipitnonummy.co.uk Oct 3, 2019 €1372,04 5113 9483 6859 0496 France 93095 Ap #574-6168 Justo Street Tommaso Neri +046 933-156232 est.vitae.sodales@variuset.com Jun 21, 2020 €1386,52 5598.3247.7248.6685 Italy 26275 P.O. Box 955, 8221 Eget Road Nomlanga Bright +23 540-865595 facilisis.lorem.tristique@tinciduntaliquam.co.uk Mar 30, 2019 €1418,08 5191.8861.3743.6002 Netherlands 6411 ZZ 6594 Lectus. Rd. MacKensie Salas +62 299-992339 enim.Suspendisse.aliquet@ametlorem.edu Mar 27, 2020 €1265,20 5344 8727 9240 1917 Spain 31532 P.O. Box 752, 8684 Duis Avenue Rigel Casey +11 999-284092 lacus@sitamet.edu Jun 26, 2019 €1496,31 5367.0165.8955.8537 Turkey 10933 P.O. Box 469, 2741 Accumsan Avenue Thomas Karlsson +077 327-247901 vulputate.lacus.Cras@Phaselluslibero.ca Jan 22, 2020 €1053,96 5149.7075.8049.6066 Sweden 26970 647-9306 Nulla Av. Kay Wooten +081 860-909220 Ut@Pellentesquehabitantmorbi.ca Jul 4, 2019 €1686,40 5116 5537 9705 7773 Spain 72892 P.O. Box 917, 8818 Lectus Avenue Ursa Carlson +052 644-592825 Etiam@consequatlectus.com Feb 2, 2020 €1536,49 5531.3947.2870.2535 Turkey 58783 P.O. Box 495, 7802 Egestas. Street Michelle Bright +026 923-271516 Suspendisse.dui@Proinnon.ca Jul 24, 2019 €1704,11 5270.6333.8161.1490 United Kingdom CF3K 1BT 143-7067 Eget St. Chastity Bauer +84 116-142841 massa@ametconsectetuer.org Feb 16, 2019 €1803,47 5239.9094.3981.7523 Germany 55766 1585 Tellus Av. Dylan Perez +01 999-147491 rutrum.urna@diamat.net Jul 6, 2019 €1163,42 5233.5154.5765.6259 France 36683 902-2524 In, Rd. Kathleen Alford +54 145-812899 semper.erat@lobortisnisi.co.uk Feb 29, 2020 €1938,49 5289-4232-1558-3233 Spain 32851 4678 Sollicitudin Avenue Valerio Leone +77 701-495509 non.vestibulum.nec@Praesenteu.net Mar 8, 2020 €1562,06 5160-2510-1493-4669 Italy 15410 Ap #389-6664 Mauris. Avenue Dylan Weber +70 638-396861 fames@hendreritconsectetuer.com Feb 29, 2020 €1327,01 5252.0862.6080.3054 Austria 9827 P.O. Box 357, 8268 Enim. Rd. Quin Mcintyre +067 579-232559 quam.elementum@molestiearcuSed.ca Mar 20, 2019 €1795,73 5481.4156.5340.1502 Poland 99-634 913-4847 Dictum Rd. Tobias Franco +92 849-674342 penatibus.et@laciniaat.org Oct 8, 2019 €1836,65 5402.7378.6367.1582 Turkey 37976 Ap #799-9646 Velit St. Emma Bodin +083 192-520093 in@sedsem.ca Sep 8, 2020 €1313,57 5402.0907.7536.1177 Sweden 43563 Ap #786-1827 Enim St. Clio Evans +078 248-317307 torquent.per@SednequeSed.edu Aug 25, 2020 €1961,45 5521 9179 3490 2523 Austria 5976 380-7434 Mattis. Street Leonardo Mariani +29 530-270246 in.cursus@accumsaninterdum.co.uk Jul 24, 2019 €1723,18 5119.1004.7188.1719 Italy 06952 6777 Ut Road Jaden Becker +003 782-997056 Vivamus@amalesuada.edu Sep 7, 2020 €1512,29 5236 0521 5520 2597 Poland 08-321 848-2357 Nisl. St. Lisa Karlsson +030 800-219948 placerat.augue@feugiatnec.co.uk Apr 24, 2019 €1910,52 5375.1979.8427.8721 Sweden 68745 828-5631 Nibh Ave Gregory Lecomte +59 741-528213 Sed.id@eratnequenon.ca Mar 28, 2020 €1707,22 5401 6056 6507 2104 France 61625 961-8372 Vitae Av. Demetrius Pacheco +55 804-567088 ac.nulla@Crasdictumultricies.ca Aug 19, 2020 €1501,10 5240.1755.8689.5533 Austria 1227 368 Magnis Rd. Colin Mcclain +091 987-185228 interdum.Sed.auctor@magnaDuis.ca Nov 22, 2019 €1506,29 5350 0196 6626 8102 Turkey 77037 5547 Cras Ave Guy Mack +96 249-784092 erat.volutpat.Nulla@nequesedsem.org Nov 7, 2018 €1772,25 5457.8034.3087.7401 United Kingdom X39 9SQ P.O. Box 252, 2759 Ipsum St. Reagan Sellers +050 167-337370 vestibulum.massa.rutrum@sapien.ca Jun 30, 2019 €1486,94 5557.9742.7931.8036 Netherlands 9949 BW Ap #262-8579 Sapien. Rd. Yvonne Holland +045 606-952021 nulla@ipsumsodales.net May 20, 2020 €1842,95 5582.4980.9116.5473 Poland 05-177 P.O. Box 344, 7416 Vitae Road Martena Dillon +060 220-666644 Praesent@Donec.com Dec 23, 2019 €1240,17 5253.4810.5852.8394 Turkey 54114 535-2550 Non, Ave Chanda Ramirez +040 242-354946 magnis.dis.parturient@ut.ca Mar 20, 2019 €1268,27 5108-3380-0261-8415 Belgium 1087 201-8167 Leo St. Francis Pennington +83 887-966017 tincidunt@nonegestasa.co.uk Oct 10, 2019 €1954,62 5483 0793 3821 6483 Spain 36492 P.O. Box 302, 5975 Eget, Rd. Olympia Malone +11 383-124254 sapien.cursus.in@euligulaAenean.ca Aug 7, 2020 €1401,90 5583 8644 5187 8550 Belgium 9226 2879 Nulla St. Buckminster Mcfadden +32 524-851185 mi@in.org Sep 14, 2019 €1918,26 5127 2207 4267 8023 Belgium 1712 Ap #616-4477 Velit Ave Sonia Abbott +074 500-054222 massa.Mauris.vestibulum@laoreet.ca Dec 9, 2018 €1721,81 5594.3759.8335.3613 Spain 00850 Ap #134-6732 Sapien. St. Ferdinand Pollard +20 890-957869 Duis.dignissim@vitaesodalesat.co.uk Jul 21, 2019 €1375,70 5429.7116.6773.4382 United Kingdom MD2 3RK P.O. Box 391, 5149 Etiam Av. India Sanders +00 163-465986 nibh.sit.amet@Fusce.com Apr 26, 2020 €1058,66 5106-5124-1462-0274 Austria 2854 158-6907 Magna. St. Colorado Morrison +57 315-167258 Aenean.gravida.nunc@ornarelectus.com Apr 29, 2019 €1654,36 5561 6527 6966 9258 Netherlands 9664 IL Ap #947-5015 Mollis. Road Amaya Velazquez +083 179-296549 in.sodales.elit@vulputaterisusa.com Apr 7, 2020 €1026,89 5199.0629.1421.6429 Germany 29187 P.O. Box 809, 1020 Risus. Street Lionel Mcgowan +30 264-769241 elit@in.org Mar 28, 2020 €1580,07 5508.3867.1431.3441 Poland 00-715 808-3846 Vel Av. Zephr Bell +11 116-285988 magnis.dis@faucibuslectus.co.uk Jul 8, 2019 €1493,09 5243 3094 9750 4044 Belgium 3883 P.O. Box 916, 2090 Elit. Rd. Daryl Murphy +090 474-514919 diam.Pellentesque@non.ca Jan 13, 2019 €1729,02 5590-5022-1863-8013 Netherlands 4824 TH 836-7094 Varius. Avenue Jermaine Garza +041 460-432653 amet@erat.ca Mar 31, 2019 €1954,89 5443-3614-1690-6428 Germany 21170 Ap #205-9081 Sem Avenue Valentina Greco +97 797-099569 dui.Fusce.aliquam@purusMaecenaslibero.org Jul 5, 2019 €1800,10 5258-8287-3175-1816 Italy 61054 P.O. Box 529, 2067 Mi, St. Claire Pace +049 253-718589 Fusce@anteiaculis.net Feb 12, 2020 €1101,45 5381.4349.1021.6299 Austria 4900 P.O. Box 581, 8059 Vel Ave Corentin Legoff +06 219-171185 sed.pede.Cum@parturientmontesnascetur.co.uk Aug 21, 2020 €1183,98 5566.2496.4280.6507 France 45746 Ap #581-8682 Magna. Avenue Maya Landry +079 179-906781 vitae.orci.Phasellus@placerataugueSed.com Dec 15, 2019 €1017,96 5151 4187 4873 2252 Austria 9271 100 Aptent Ave Roary Watts +083 247-145818 Phasellus.at.augue@augueeutempor.org Mar 26, 2019 €1678,52 5558.4600.8033.1078 United Kingdom A4P 7EQ 843-2417 Lacus. Rd. Alice Farina +062 454-145044 gravida@iaculis.org Nov 5, 2018 €1305,48 5438.3754.7573.3850 Italy 00898 8690 Dolor. Rd. Plato Byrd +59 242-073454 sit.amet.luctus@Quisqueornaretortor.com Mar 18, 2019 €1155,12 5420 3591 0659 4550 Spain 45494 253 Sed St. Colton Henderson +073 672-917846 risus.quis.diam@luctusvulputate.com Apr 29, 2019 €1956,31 5565 8460 8898 8250 Germany 82816 713-8925 Viverra. Road Russell Dean +029 862-380296 pede.et.risus@arcu.edu Mar 10, 2020 €1978,98 5507.1435.5927.2187 Belgium 5115 P.O. Box 123, 6603 Magna, Road Allen Quinn +047 465-105131 et@per.edu Aug 21, 2019 €1108,64 5595.2241.6274.4920 Netherlands 9164 XR 581-7281 Iaculis Rd. Kimberley Salazar +86 475-185535 orci.luctus.et@tempusscelerisque.ca Nov 17, 2018 €1246,71 5455 5772 8345 3294 Poland 96-805 P.O. Box 248, 9226 Bibendum Rd. Abel Robertson +060 490-574001 sit.amet.orci@aliquet.net Jun 20, 2020 €1141,70 5534-9508-0842-9732 Turkey 62715 395-2552 Pede. Ave Zoe Berger +14 701-944299 mattis.ornare@non.co.uk Apr 10, 2019 €1715,50 5175 9039 2763 4272 France 58933 P.O. Box 606, 6966 Nulla Av. Cheyenne Gomez +082 987-571738 id@penatibusetmagnis.com Oct 24, 2019 €1475,25 5515.5921.2308.3449 Germany 74716 Ap #975-2007 Elit, Street Jin Kane +63 138-695095 ante.dictum.mi@nequeIn.ca Jan 4, 2019 €1495,27 5508-7272-6598-2169 Spain 66805 P.O. Box 611, 7925 Vitae, Rd. Autumn Alexander +07 422-640464 dolor@massa.org Feb 11, 2019 €1930,42 5488 6421 7526 1345 Austria 1283 818-3482 Arcu. St. Callie Black +10 721-981574 est.Mauris@sitametconsectetuer.edu Jul 26, 2019 €1705,68 5371-9465-3292-1354 Germany 31094 307-3097 Et Road Summer Rowland +091 962-160333 amet.diam.eu@seddictum.net Jun 12, 2020 €1891,60 5494.5388.7231.8572 Austria 2146 P.O. Box 842, 440 Nisi Avenue Gaia Greco +033 324-094169 Integer.in.magna@gravidanuncsed.net Jan 5, 2020 €1177,51 5249 9324 5185 9387 Italy 28402 P.O. Box 656, 9317 Maecenas Rd. Bernard Walters +43 235-694988 ultrices@diam.ca May 3, 2020 €1005,19 5292-2294-3772-8380 Turkey 64799 Ap #239-2132 Dui. Road Valentina Colombo +085 413-452562 et.malesuada.fames@cursus.org Mar 16, 2019 €1295,33 5483 5074 1005 4695 Italy 30488 163-7336 Est Street Silvia Samuelsson +033 290-932457 nisl.Quisque@tellus.co.uk Jan 26, 2019 €1119,75 5128-0051-2287-7652 Sweden 84595 Ap #811-8204 Elementum Rd. Heather Espinoza +33 678-799879 lacus.Cras@consectetuer.edu May 28, 2019 €1669,77 5453-1928-5075-7119 Germany 83371 3658 Ornare St. Josephine Nixon +21 334-218059 a.malesuada.id@molestiesodalesMauris.edu Jun 24, 2019 €1673,92 5300 7581 5477 2916 Germany 05402 P.O. Box 661, 2695 Morbi Avenue Raymond Velez +079 595-591098 nonummy.ipsum@nulla.com May 13, 2020 €1135,00 5599 3786 2856 1769 Belgium 3736 415-9289 Proin Street Harriet Mcclain +61 997-581621 Etiam@Aeneangravidanunc.ca Jul 18, 2020 €1687,54 5515 1816 0958 4094 United Kingdom U62 2LB Ap #147-9132 Sed Road Brenda Walton +01 174-190457 dolor.Fusce@tempusnonlacinia.ca Sep 18, 2020 €1683,58 5493.1437.5201.8383 United Kingdom H5 0RH 4565 Magna St. William Logan +098 896-595581 molestie@etmagnis.net Apr 15, 2020 €1423,04 5513-4105-9240-3471 Turkey 50329 450 Facilisis Avenue Marah Harding +021 786-642546 sagittis@etmagnis.com Jul 9, 2020 €1898,19 5520.4662.4734.2333 Belgium 3804 Ap #584-4200 Fusce Road Christopher Bush +07 244-592671 egestas.Aliquam@acurna.ca Oct 20, 2020 €1981,48 5176.9663.2697.0943 Turkey 79907 Ap #919-5090 Bibendum St. Bruce Hyde +082 886-554685 Nunc.mauris@commodo.ca Nov 21, 2018 €1139,37 5312.1938.2484.5213 Spain 49157 690-9315 Donec Avenue Chaney Gonzales +09 834-780529 sit.amet@risus.co.uk Aug 7, 2020 €1501,96 5396-9316-2811-1061 Spain 42469 P.O. Box 619, 5921 Feugiat St. Ambre Carre +053 486-801099 id@sollicitudincommodo.co.uk Oct 31, 2018 €1038,44 5451 4078 9073 6754 France 18228 168-8493 Nec Av. Martin Leon +64 975-081543 Donec@at.ca Nov 2, 2019 €1236,29 5331 1413 6675 6584 Germany 60390 607-2291 Eu Ave Cheryl Russell +62 120-453883 auctor.ullamcorper@eratEtiamvestibulum.co.uk Aug 19, 2019 €1402,54 5198 0741 5147 4505 United Kingdom Y04 5DK 3278 Quis, Av. Antonio Albanese +21 706-626294 at.sem@tinciduntDonec.edu Mar 2, 2020 €1223,31 5183-8933-2885-4670 Italy 71974 P.O. Box 813, 3791 Sem Av. Raymond Cruz +80 337-134753 elementum.purus@estmollisnon.ca Jul 12, 2019 €1385,61 5304.8372.2759.8833 Germany 21364 Ap #203-9457 Eu, Avenue Camille Knowles +072 485-583182 est@acmetusvitae.org Jun 18, 2019 €1986,35 5219 5815 3078 3435 Spain 63671 941 Pede Ave Amandine Philippe +14 619-255015 magna.Praesent@liberoInteger.com Mar 27, 2019 €1212,48 5202-4503-6206-4471 France 78348 856-4376 Donec Street Jasper Woods +049 635-709301 mi@egetodioAliquam.edu Sep 15, 2020 €1746,59 5278 5117 2354 3369 Germany 47850 P.O. Box 734, 9159 Justo. Avenue Whitney Silva +090 515-562610 gravida@mi.net Oct 29, 2020 €1411,24 5108-4575-3480-6940 Austria 4423 P.O. Box 635, 1624 Eget, St. Antoine Pons +008 593-067558 arcu.Sed@Vestibulumaccumsanneque.org Jun 17, 2020 €1362,12 5267-7820-9364-1918 France 28978 4790 Sollicitudin Avenue Griffin Bolton +27 364-316509 dui.semper@acfacilisisfacilisis.edu Dec 21, 2018 €1616,51 5590.3217.5810.7218 Poland 79-597 P.O. Box 267, 447 Est, Road Buckminster Norman +89 430-858712 ipsum.Phasellus@pharetra.net Jun 22, 2020 €1390,57 5149-3351-9677-9608 Germany 19622 884 Aliquam Av. Loevan Moreau +044 718-356394 ligula@libero.net Aug 20, 2020 €1837,35 5246 2850 7575 8896 France 28705 Ap #377-929 In Street Erica Samuelsson +059 575-356097 Morbi.vehicula@diameudolor.co.uk Feb 6, 2020 €1756,51 5486.6789.4393.7644 Sweden 33130 675-6144 Phasellus Rd. Yoko Berry +79 671-327350 ligula.tortor.dictum@neque.net Dec 10, 2018 €1485,02 5370 5776 3369 0175 United Kingdom M1 8TD P.O. Box 340, 1528 Suspendisse Rd. Beck Mcmillan +090 354-993278 sit@tinciduntaliquamarcu.ca Jun 12, 2019 €1928,36 5268 5929 9687 7876 Turkey 48784 590-9728 Nonummy Ave Arden Preston +68 484-812645 faucibus.lectus@egestas.net Oct 18, 2019 €1467,70 5534-2859-1131-6132 Belgium 4594 P.O. Box 680, 3752 Vitae St. Silvia Karlsson +09 403-193911 gravida@velit.org Sep 25, 2019 €1004,17 5331.0096.0078.7568 Sweden 82032 P.O. Box 196, 7509 Ac St. Cooper Barton +081 552-560274 Etiam.vestibulum@sit.co.uk Oct 26, 2019 €1364,35 5545.4539.0160.4282 Spain 24450 P.O. Box 732, 6673 Et, Ave Arthur Cleveland +65 832-660241 nec.mauris.blandit@Cras.com Jul 22, 2020 €1690,31 5398 4651 1112 9338 Belgium 7789 Ap #826-6763 Metus. Avenue Griffin Ortega +050 623-856850 turpis@mi.org Jun 5, 2020 €1324,05 5128.2122.1191.8617 Turkey 59276 Ap #521-9885 Non Av. Guillemette Riviere +070 163-934916 lacinia.orci.consectetuer@tempordiamdictum.ca May 4, 2020 €1630,99 5385-4077-0462-3843 France 65305 Ap #153-4646 Nunc, Ave Burton Stanley +024 510-292875 non.nisi@interdum.edu Dec 21, 2019 €1043,27 5580-8030-1124-5093 Spain 87021 8527 Vitae Street Echo Haney +06 188-529614 sed.dolor.Fusce@Duisvolutpat.edu May 4, 2019 €1617,37 5557 8743 8846 4913 Spain 33635 Ap #954-6401 Id, Ave Rama Puckett +060 373-423067 in.consequat@velit.com May 11, 2020 €1601,48 5314-3493-3325-9324 United Kingdom H8B 6IV Ap #872-3757 Porttitor Rd. Chaney Herman +22 294-936355 Duis@Namac.co.uk Mar 2, 2019 €1311,49 5227.8212.7230.6643 Netherlands 0992 WY 749-9766 At Rd. Declan Valenzuela +07 480-046483 elementum.dui@semperauctorMauris.org Dec 30, 2019 €1291,27 5373.1783.9394.7140 Turkey 72299 P.O. Box 784, 637 Ultricies St. Raphael Oconnor +020 453-787534 Mauris@vestibulumnequesed.org May 7, 2020 €1552,74 5253.2321.0912.6062 Germany 30585 Ap #359-5433 Iaculis St. Travis Flores +034 441-112067 euismod@Duisrisus.edu Nov 8, 2018 €1212,58 5510 8233 2321 3170 Austria 3113 Ap #359-6878 Fringilla Ave Erika Karlsson +046 980-444373 urna.nec@gravidasit.net Aug 16, 2020 €1477,73 5455.6593.8551.0500 Sweden 85355 P.O. Box 285, 5113 Ut Ave Ian Cardenas +099 532-247966 pede@Nullam.edu Feb 20, 2019 €1277,69 5287.7879.9723.0946 Poland 08-805 450-6554 Cubilia Av. Joan Hodges +30 972-169908 ridiculus.mus.Donec@nisinibhlacinia.edu Apr 4, 2019 €1567,72 5174-3313-6291-7922 Belgium 8107 P.O. Box 487, 3940 Amet St. Anna Carlsson +19 378-947578 nisi@Phasellusin.com Jun 28, 2020 €1466,52 5112-8185-9029-8757 Sweden 14808 550-7097 Sapien. St. Lacey Murphy +96 726-860901 magna.nec@neque.org Sep 19, 2020 €1172,37 5144.8673.6745.5589 Germany 21459 4865 Lorem. Avenue Alden Joseph +09 729-257431 Cras.vulputate@enimMaurisquis.com Jul 18, 2020 €1115,36 5484 0022 8682 2390 Germany 37416 Ap #690-1687 Tempus Ave Risa Kirby +11 395-162336 Suspendisse.non@orciquislectus.edu Jul 5, 2020 €1151,91 5384 9404 2207 3348 Spain 15375 Ap #718-6603 Molestie Rd. Reece Cooke +93 780-900408 porttitor.vulputate.posuere@vitaeeratVivamus.com Jan 16, 2019 €1618,12 5416.3646.0342.0453 Turkey 11556 P.O. Box 124, 5779 Convallis St. Sage Castillo +84 747-973964 est.Mauris.eu@nislNulla.com Nov 20, 2019 €1767,93 5468-8359-9557-0689 Austria 3905 P.O. Box 490, 5896 A Street Magee Jacobson +45 637-872887 risus.Duis.a@antebibendum.ca Mar 21, 2020 €1649,36 5471 2478 3264 5580 Austria 3003 7432 Iaculis, Road Xyla Hines +41 831-976383 facilisis.magna@egestasrhoncusProin.ca Nov 17, 2019 €1044,46 5500-2073-8679-0583 Austria 4082 892-3693 Imperdiet Street Jack Klein +023 390-459042 cursus.Nunc.mauris@fermentumarcu.edu Dec 19, 2018 €1789,41 5187 2893 8914 0586 Belgium 1501 P.O. Box 757, 1058 Ut Rd. Rashad Schneider +068 452-620405 mi.ac.mattis@congueturpis.edu Jul 26, 2019 €1472,70 5352-8550-2411-3128 Poland 08-781 P.O. Box 988, 5735 Etiam St. Clemence Gay +064 121-766559 ut@euaugueporttitor.ca Jul 5, 2020 €1083,84 5175 8515 7709 5734 France 95187 381-8719 Enim, St. Colin Noel +11 167-847067 sit.amet@acfeugiatnon.edu Nov 5, 2019 €1987,53 5271-6802-8581-9041 France 89691 608-3009 Non, Ave Fay Clarke +087 550-656634 turpis.In@In.com Oct 22, 2019 €1236,85 5355 7474 3221 3524 Turkey 67651 5408 Volutpat. Av. Anders Persson +30 508-596968 vestibulum.massa.rutrum@sit.com Apr 11, 2019 €1305,63 5535 9418 9099 9434 Sweden 59744 3967 Nam Street Mathis Charles +047 824-702592 morbi@Etiam.ca Sep 11, 2020 €1809,17 5180 2116 3881 8868 France 05388 P.O. Box 821, 4455 Gravida St. Sophia Gallegos +09 180-712288 cursus.purus.Nullam@aliquamenim.net Jun 17, 2020 €1206,54 5389.3555.0620.1068 Germany 62641 372-4835 Sociis St. Marta Olivieri +025 473-886539 elit.Aliquam.auctor@Donecat.edu Feb 6, 2020 €1616,64 5427.8366.8792.4671 Italy 53504 P.O. Box 979, 3750 Phasellus Rd. Paki Tyson +059 209-979495 risus.Donec.egestas@condimentum.org Oct 3, 2019 €1677,89 5298.4334.5001.3886 Netherlands 6008 CG Ap #869-4581 In St. Rebecca Di Stefano +37 986-295032 purus.sapien.gravida@aliquetvelvulputate.edu Apr 30, 2019 €1777,68 5228-0961-5709-4676 Italy 51816 8251 Semper Av. Giulio Ferrara +87 267-076784 pharetra.ut.pharetra@elitpellentesquea.ca May 2, 2019 €1068,23 5108-9897-2902-9094 Italy 81355 P.O. Box 280, 9731 Scelerisque Av. Gail Watkins +066 793-924325 elit.a@a.ca May 13, 2020 €1684,20 5573-3754-4110-1229 Germany 60983 Ap #411-6393 Neque Ave Ina Pope +66 710-695422 ipsum.leo@etnetus.org Jun 25, 2019 €1411,14 5494.4294.5676.1991 Turkey 56481 100-3143 Sem Av. Pierre Huet +59 780-534428 Duis@massanon.edu Feb 12, 2020 €1204,66 5464.3195.6239.7366 France 56606 9836 Proin St. Fuller Wong +066 630-613976 arcu.Sed@pharetrafelis.edu Feb 16, 2019 €1964,41 5173.8314.8364.7499 Poland 70-698 4283 Proin Avenue Inga Perez +077 335-699540 lectus.ante@dolordolortempus.edu Apr 13, 2020 €1416,76 5259 5489 5154 6089 Spain 91092 P.O. Box 788, 5453 Enim. St.\n"
     ]
    }
   ],
   "source": [
    "with open('db.csv') as file:\n",
    "    db = file.read()\n",
    "print(db)"
   ]
  },
  {
   "cell_type": "code",
   "execution_count": 18,
   "metadata": {},
   "outputs": [
    {
     "name": "stdout",
     "output_type": "stream",
     "text": [
      "200\n"
     ]
    }
   ],
   "source": [
    "#name\n",
    "name = re.findall(r\"[A-Z][a-z]+\\s[A-Z][a-z]+\\s\\+\",db)\n",
    "name = [re.sub(\"\\s\\+\",\"\", nombre) for nombre in name] \n",
    "print(len(name))"
   ]
  },
  {
   "cell_type": "code",
   "execution_count": 19,
   "metadata": {},
   "outputs": [
    {
     "name": "stdout",
     "output_type": "stream",
     "text": [
      "200\n"
     ]
    }
   ],
   "source": [
    "#phone\n",
    "phone = re.findall(r\"\\+[0-9]+\\s[0-9]+\\-[0-9]+\", db)\n",
    "print(len(phone))"
   ]
  },
  {
   "cell_type": "code",
   "execution_count": 20,
   "metadata": {},
   "outputs": [
    {
     "name": "stdout",
     "output_type": "stream",
     "text": [
      "200\n"
     ]
    }
   ],
   "source": [
    "#email\n",
    "email = re.findall(r\"\\S+@\\S+\",db)\n",
    "# email = re.findall(r'(?i)[a-z0-9.]*@[a-z0-9.]*', db)\n",
    "print(len(email))"
   ]
  },
  {
   "cell_type": "code",
   "execution_count": 21,
   "metadata": {},
   "outputs": [
    {
     "name": "stdout",
     "output_type": "stream",
     "text": [
      "200\n"
     ]
    }
   ],
   "source": [
    "#date\n",
    "date = re.findall(r\"\\S+\\s\\d{1,2},\\s\\S+\",db)\n",
    "# date = re.findall('[JFMASOND]{1}[a-z]{2}\\s[0-9]+,\\s[0-9]{4}', db)\n",
    "print(len(date))"
   ]
  },
  {
   "cell_type": "code",
   "execution_count": 22,
   "metadata": {},
   "outputs": [
    {
     "name": "stdout",
     "output_type": "stream",
     "text": [
      "200\n"
     ]
    }
   ],
   "source": [
    "#contract_value\n",
    "# contract = re.findall(r\"€[0-9,]+\", db)\n",
    "# contract = re.findall(\"€[0-9]+,[0-9]{2}\")\n",
    "contract = re.findall(r\"€\\S+\", db)\n",
    "print(len(contract))"
   ]
  },
  {
   "cell_type": "code",
   "execution_count": 23,
   "metadata": {},
   "outputs": [
    {
     "name": "stdout",
     "output_type": "stream",
     "text": [
      "200\n"
     ]
    }
   ],
   "source": [
    "#creditcard\n",
    "creditcard = re.findall(\"\\d{4}.\\d{4}.\\d{4}.\\d{4}\",db)\n",
    "print(len(creditcard))"
   ]
  },
  {
   "cell_type": "code",
   "execution_count": 24,
   "metadata": {},
   "outputs": [
    {
     "name": "stdout",
     "output_type": "stream",
     "text": [
      "200\n"
     ]
    }
   ],
   "source": [
    "#country\n",
    "country = re.findall(\"\\d{4}.\\d{4}.\\d{4}.\\d{4}\\s\\w+\",db)\n",
    "country = [re.sub(\"\\d{4}.\\d{4}.\\d{4}.\\d{4}\\s\",\"\",e) for e in country]\n",
    "country = [re.sub(\"United\",\"United Kingdom\",e) for e in country]\n",
    "print(len(country))"
   ]
  },
  {
   "cell_type": "code",
   "execution_count": 25,
   "metadata": {},
   "outputs": [
    {
     "name": "stdout",
     "output_type": "stream",
     "text": [
      "200\n"
     ]
    }
   ],
   "source": [
    "#address\n",
    "# Creating regex expressions with | to that takes any value for name or country.\n",
    "name_reg = '|'.join(set(name)).replace(' ','\\s')\n",
    "country_reg = '|'.join(set(country)).replace(' ','\\s')\n",
    "# Splitting db by country and of the resulting list, splitting each element by name\n",
    "address = [re.split(name_reg,e) for e in re.split(country_reg,db)][1:]\n",
    "# Taking the element corresponding to the addres and removing unwanted spaces \n",
    "# on begining and end\n",
    "address = [e[0].strip() for e in address]\n",
    "print(len(address))"
   ]
  },
  {
   "cell_type": "code",
   "execution_count": 26,
   "metadata": {},
   "outputs": [
    {
     "data": {
      "text/html": [
       "<div>\n",
       "<style scoped>\n",
       "    .dataframe tbody tr th:only-of-type {\n",
       "        vertical-align: middle;\n",
       "    }\n",
       "\n",
       "    .dataframe tbody tr th {\n",
       "        vertical-align: top;\n",
       "    }\n",
       "\n",
       "    .dataframe thead th {\n",
       "        text-align: right;\n",
       "    }\n",
       "</style>\n",
       "<table border=\"1\" class=\"dataframe\">\n",
       "  <thead>\n",
       "    <tr style=\"text-align: right;\">\n",
       "      <th></th>\n",
       "      <th>name</th>\n",
       "      <th>phone</th>\n",
       "      <th>email</th>\n",
       "      <th>date</th>\n",
       "      <th>contract</th>\n",
       "      <th>creditcard</th>\n",
       "      <th>country</th>\n",
       "      <th>address</th>\n",
       "    </tr>\n",
       "  </thead>\n",
       "  <tbody>\n",
       "    <tr>\n",
       "      <td>0</td>\n",
       "      <td>Cameron Sanders</td>\n",
       "      <td>+049 106-232065</td>\n",
       "      <td>In@consequatdolorvitae.co.uk</td>\n",
       "      <td>Nov 18, 2018</td>\n",
       "      <td>€1968,40</td>\n",
       "      <td>5109-0814-0029-5373</td>\n",
       "      <td>Spain</td>\n",
       "      <td>17716 6396 Orci St.</td>\n",
       "    </tr>\n",
       "    <tr>\n",
       "      <td>1</td>\n",
       "      <td>Paki Andrews</td>\n",
       "      <td>+92 757-624220</td>\n",
       "      <td>sed.tortor.Integer@amet.org</td>\n",
       "      <td>Nov 5, 2019</td>\n",
       "      <td>€1436,12</td>\n",
       "      <td>5193 1959 4162 5216</td>\n",
       "      <td>Spain</td>\n",
       "      <td>85485 669-6354 Orci Ave</td>\n",
       "    </tr>\n",
       "    <tr>\n",
       "      <td>2</td>\n",
       "      <td>Alice Henderson</td>\n",
       "      <td>+058 588-402901</td>\n",
       "      <td>Phasellus@vitaesodalesnisi.co.uk</td>\n",
       "      <td>Mar 9, 2020</td>\n",
       "      <td>€1454,20</td>\n",
       "      <td>5582.3641.9791.9751</td>\n",
       "      <td>Austria</td>\n",
       "      <td>4964 1696 Ac St.</td>\n",
       "    </tr>\n",
       "    <tr>\n",
       "      <td>3</td>\n",
       "      <td>Jamalia Johnston</td>\n",
       "      <td>+080 954-388350</td>\n",
       "      <td>turpis.nec@elitafeugiat.net</td>\n",
       "      <td>Sep 30, 2019</td>\n",
       "      <td>€1979,49</td>\n",
       "      <td>5398 2093 5064 8545</td>\n",
       "      <td>Netherlands</td>\n",
       "      <td>7683 XL Ap #958-9660 Dis Rd.</td>\n",
       "    </tr>\n",
       "    <tr>\n",
       "      <td>4</td>\n",
       "      <td>Erica Meloni</td>\n",
       "      <td>+044 143-705707</td>\n",
       "      <td>pede@risusQuisquelibero.net</td>\n",
       "      <td>Sep 24, 2019</td>\n",
       "      <td>€1532,00</td>\n",
       "      <td>5186 5977 9103 6189</td>\n",
       "      <td>Italy</td>\n",
       "      <td>31046 P.O. Box 271, 1072 Cursus Rd.</td>\n",
       "    </tr>\n",
       "  </tbody>\n",
       "</table>\n",
       "</div>"
      ],
      "text/plain": [
       "               name            phone                             email  \\\n",
       "0   Cameron Sanders  +049 106-232065      In@consequatdolorvitae.co.uk   \n",
       "1      Paki Andrews   +92 757-624220       sed.tortor.Integer@amet.org   \n",
       "2   Alice Henderson  +058 588-402901  Phasellus@vitaesodalesnisi.co.uk   \n",
       "3  Jamalia Johnston  +080 954-388350       turpis.nec@elitafeugiat.net   \n",
       "4      Erica Meloni  +044 143-705707       pede@risusQuisquelibero.net   \n",
       "\n",
       "           date  contract           creditcard      country  \\\n",
       "0  Nov 18, 2018  €1968,40  5109-0814-0029-5373        Spain   \n",
       "1   Nov 5, 2019  €1436,12  5193 1959 4162 5216        Spain   \n",
       "2   Mar 9, 2020  €1454,20  5582.3641.9791.9751      Austria   \n",
       "3  Sep 30, 2019  €1979,49  5398 2093 5064 8545  Netherlands   \n",
       "4  Sep 24, 2019  €1532,00  5186 5977 9103 6189        Italy   \n",
       "\n",
       "                               address  \n",
       "0                  17716 6396 Orci St.  \n",
       "1              85485 669-6354 Orci Ave  \n",
       "2                     4964 1696 Ac St.  \n",
       "3         7683 XL Ap #958-9660 Dis Rd.  \n",
       "4  31046 P.O. Box 271, 1072 Cursus Rd.  "
      ]
     },
     "metadata": {},
     "output_type": "display_data"
    }
   ],
   "source": [
    "# Creating DataFrame\n",
    "\n",
    "df = pd.DataFrame(list(zip(name,phone,email,date,contract,creditcard,country,address)), \n",
    "                  columns=['name','phone','email','date','contract','creditcard',\n",
    "                           'country','address'])\n",
    "display(df.head())\n",
    "df.to_csv('df_cleaned.csv')"
   ]
  }
 ],
 "metadata": {
  "kernelspec": {
   "display_name": "Python 3",
   "language": "python",
   "name": "python3"
  },
  "language_info": {
   "codemirror_mode": {
    "name": "ipython",
    "version": 3
   },
   "file_extension": ".py",
   "mimetype": "text/x-python",
   "name": "python",
   "nbconvert_exporter": "python",
   "pygments_lexer": "ipython3",
   "version": "3.7.4"
  }
 },
 "nbformat": 4,
 "nbformat_minor": 2
}
